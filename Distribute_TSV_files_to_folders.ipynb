{
 "cells": [
  {
   "cell_type": "code",
   "execution_count": 1,
   "metadata": {
    "collapsed": true
   },
   "outputs": [],
   "source": [
    "import os\n",
    "import glob\n",
    "import csv\n",
    "import copy\n",
    "from functions import *"
   ]
  },
  {
   "cell_type": "code",
   "execution_count": 3,
   "metadata": {
    "collapsed": false
   },
   "outputs": [],
   "source": [
    "# define paths\n",
    "source_folderpath = \"/Users/carsonlam/macroeyes/4th_extraction/\"\n",
    "Population_path = \"/Users/carsonlam/macroeyes/Population_v2/\""
   ]
  },
  {
   "cell_type": "code",
   "execution_count": 7,
   "metadata": {
    "collapsed": true
   },
   "outputs": [],
   "source": [
    "# load raw data to memory in a list\n",
    "with open(source_folderpath + \"orders.tsv\") as tsvfile:\n",
    "    tsvreader = csv.reader(tsvfile, delimiter=\"\\t\")\n",
    "    tsvlist = list(tsvreader)"
   ]
  },
  {
   "cell_type": "code",
   "execution_count": 8,
   "metadata": {
    "collapsed": false
   },
   "outputs": [
    {
     "name": "stdout",
     "output_type": "stream",
     "text": [
      "PAT_MRN_ID,ORDER_PROC_ID,CONTACT_DATE,PAT_ENC_CSN_ID,VISIT_NAME,PROC_CODE,DESCRIPTION,DEP_NAME,DEPARTMENT_ID\n"
     ]
    }
   ],
   "source": [
    "# turn the first line into a header for your data\n",
    "header = tsvlist[0]\n",
    "# the first line is itself a list and must be turned into a string to write to file, ',' is our delimiter\n",
    "d=','\n",
    "stringheader = d.join(header)\n",
    "print(stringheader)"
   ]
  },
  {
   "cell_type": "code",
   "execution_count": 9,
   "metadata": {
    "collapsed": false
   },
   "outputs": [
    {
     "name": "stdout",
     "output_type": "stream",
     "text": [
      "44486\n"
     ]
    }
   ],
   "source": [
    "# Take the lines of data (all lines after the first , the header) and put in separate list\n",
    "tsvdata = tsvlist[1:]\n",
    "# the list is zero indexed so the last element is len(tsvdata) - 1\n",
    "print(len(tsvdata))"
   ]
  },
  {
   "cell_type": "code",
   "execution_count": 14,
   "metadata": {
    "collapsed": false
   },
   "outputs": [],
   "source": [
    "# script to make modifications to each line of the data list before sending it to the txt files in pt folders\n",
    "\n",
    "for i in range(len(tsvdata)):\n",
    "    \n",
    "    # converting the data String to d/m/y\n",
    "    tsvdata[i][2] = tsvdata[i][2].replace(\"/\", \"-\")\n",
    "    \n",
    "    d=','\n",
    "    stringLine = d.join(tsvdata[i])\n",
    "    #print(stringLine)\n",
    "    #if i > 20:\n",
    "        #break "
   ]
  },
  {
   "cell_type": "code",
   "execution_count": 18,
   "metadata": {
    "collapsed": false
   },
   "outputs": [
    {
     "name": "stdout",
     "output_type": "stream",
     "text": [
      "44405 81\n"
     ]
    }
   ],
   "source": [
    "# testing to see if there is a folder for each of these data points\n",
    "nope = 0\n",
    "have = 0\n",
    "for i in range(len(tsvdata)):\n",
    "    \n",
    "    # build the path\n",
    "    patient_folder_path = Population_path + tsvdata[i][0]\n",
    "    \n",
    "    if not os.path.exists(patient_folder_path):\n",
    "        nope+=1\n",
    "    else:\n",
    "        have+=1\n",
    "        \n",
    "print(have,nope)"
   ]
  },
  {
   "cell_type": "code",
   "execution_count": 19,
   "metadata": {
    "collapsed": true
   },
   "outputs": [],
   "source": [
    "# Create a txt file with a header inside in each folder for which data exists,\n",
    "# Dont try to do so for non existent folders represented in the raw data\n",
    "# or for folders already contianing the txt file \n",
    "# later on you will have to create these files for the patient folders not in the raw data\n",
    "\n",
    "DIMENSION_NAME = \"orders.txt\"\n",
    "\n",
    "for i in range(len(tsvdata)):\n",
    "    \n",
    "    # build the path\n",
    "    patient_folder_path = Population_path + tsvdata[i][0]\n",
    "    textpath = patient_folder_path + \"/\" + DIMENSION_NAME\n",
    "    \n",
    "    if os.path.exists(patient_folder_path) and not os.path.exists(textpath):\n",
    "        \n",
    "        # create add the file \n",
    "        file = open(textpath, \"w\")\n",
    "        file.write(stringheader + \"\\n\") # remember to use the \\n to go to next line \n",
    "        file.close()\n",
    "    "
   ]
  },
  {
   "cell_type": "code",
   "execution_count": null,
   "metadata": {
    "collapsed": false
   },
   "outputs": [],
   "source": [
    "# Script for inserting the data into it's txt file in pt folders, if the txt file exists\n",
    "for i in range(len(tsvdata)):\n",
    "    \n",
    "    # build the path\n",
    "    patient_folder_path = Population_path + tsvdata[i][0]\n",
    "    textpath = patient_folder_path + \"/\" + DIMENSION_NAME\n",
    "    if os.path.exists(textpath):\n",
    "    # convert he data into strings\n",
    "        d = ','\n",
    "        stringLine = d.join(tsvdata[i])\n",
    "\n",
    "        with open(textpath, \"a\") as myfile:\n",
    "            myfile.write(stringLine + \"\\n\") # remember to use the \\n to go to next line\n",
    "    if i%1000 == 0:\n",
    "        print(i/len(tsvdata))"
   ]
  },
  {
   "cell_type": "code",
   "execution_count": null,
   "metadata": {
    "collapsed": false
   },
   "outputs": [],
   "source": []
  },
  {
   "cell_type": "code",
   "execution_count": null,
   "metadata": {
    "collapsed": true
   },
   "outputs": [],
   "source": []
  }
 ],
 "metadata": {
  "kernelspec": {
   "display_name": "Python 3",
   "language": "python",
   "name": "python3"
  },
  "language_info": {
   "codemirror_mode": {
    "name": "ipython",
    "version": 3
   },
   "file_extension": ".py",
   "mimetype": "text/x-python",
   "name": "python",
   "nbconvert_exporter": "python",
   "pygments_lexer": "ipython3",
   "version": "3.5.1"
  }
 },
 "nbformat": 4,
 "nbformat_minor": 0
}
