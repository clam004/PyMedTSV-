{
 "cells": [
  {
   "cell_type": "code",
   "execution_count": 10,
   "metadata": {
    "collapsed": false
   },
   "outputs": [],
   "source": [
    "# Make a folder within the population folder for each patient, using the mrn as the name of the folder\n",
    "\n",
    "import csv\n",
    "\n",
    "source_folderpath = \"/Users/carsonlam/macroeyes/4th_extraction/\"\n",
    "Population_path = \"/Users/carsonlam/macroeyes/Population_v2/\"\n",
    "\n",
    "with open(source_folderpath + \"demographic.tsv\") as tsvfile:\n",
    "    tsvreader = csv.reader(tsvfile, delimiter=\"\\t\")\n",
    "    demlist = list(tsvreader)"
   ]
  },
  {
   "cell_type": "code",
   "execution_count": 55,
   "metadata": {
    "collapsed": false
   },
   "outputs": [
    {
     "name": "stdout",
     "output_type": "stream",
     "text": [
      "20734\n"
     ]
    }
   ],
   "source": [
    "len(demlist)\n",
    "demdata = demlist[1:]\n",
    "print(len(demdata))"
   ]
  },
  {
   "cell_type": "code",
   "execution_count": 35,
   "metadata": {
    "collapsed": false
   },
   "outputs": [
    {
     "name": "stdout",
     "output_type": "stream",
     "text": [
      "['PAT_MRN_ID', 'PAT_ID', 'BIRTH_DATE', 'DEATH_DATE', 'GENDER', 'PRIMARY_RACE', 'ETHNICITY', 'BMI']\n",
      "PAT_MRN_ID,PAT_ID,BIRTH_DATE,DEATH_DATE,GENDER,PRIMARY_RACE,ETHNICITY,BMI\n"
     ]
    }
   ],
   "source": [
    "# python for loops with range(n) will loop from zero to n-1, range(1,n) from 1 to n-1\n",
    "header = demlist[0]\n",
    "print(header)\n",
    "s=','\n",
    "stringheader = s.join(header)\n",
    "print(stringheader)"
   ]
  },
  {
   "cell_type": "code",
   "execution_count": 26,
   "metadata": {
    "collapsed": false
   },
   "outputs": [],
   "source": [
    "# Make a folder within the population folder for each patient, using the mrn as the name of the folder\n",
    "import os\n",
    "Population_path = \"/Users/carsonlam/macroeyes/Population_v2/\"\n",
    "\n",
    "for i in range(1,len(demlist)):\n",
    "    patient_folder_path = Population_path + demlist[i][0]\n",
    "    if not os.path.exists(patient_folder_path):\n",
    "        os.makedirs(patient_folder_path)"
   ]
  },
  {
   "cell_type": "code",
   "execution_count": 57,
   "metadata": {
    "collapsed": false
   },
   "outputs": [],
   "source": [
    "# use this script to make modifications to the lines before\n",
    "for i in range(len(demdata)):\n",
    "    \n",
    "    if demdata[i][3] == \"\":\n",
    "        demdata[i][3] = '\"\"'\n",
    "    if demdata[i][7] == \"0\":\n",
    "        demdata[i][7] = '\"\"'\n",
    "        \n",
    "    demdata[i][2] = demdata[i][2].replace(\"/\", \"-\") # swap string character elements\n",
    "    \n",
    "    # turn the list into a string with d as the delimiter for display\n",
    "    # NOTE: this doesnt make actual changes to the list, you have to do this again\n",
    "    # before incerting into the patient folders\n",
    "    d = ','\n",
    "    stringLine = d.join(demdata[i])\n",
    "    #print(stringLine)\n",
    "    #if i > 10:\n",
    "     #   break"
   ]
  },
  {
   "cell_type": "code",
   "execution_count": 61,
   "metadata": {
    "collapsed": false
   },
   "outputs": [],
   "source": [
    "# In each patient folder make a demographic.txt file and place into it the header in the first line\n",
    "# and the demographic info in the next line\n",
    "\n",
    "for i in range(len(demdata)):\n",
    "    \n",
    "    # build the path\n",
    "    patient_folder_path = Population_path + demdata[i][0]\n",
    "    textpath =patient_folder_path + \"/\" + \"demographic.txt\"\n",
    "    \n",
    "    #add the header\n",
    "    file = open(textpath, \"w\")\n",
    "    file.write(stringheader + \"\\n\") # remember to use the \\n to go to next line \n",
    "    file.close()\n",
    "    \n",
    "    # convert he data you want to insert into strings\n",
    "    d = ','\n",
    "    stringLine = d.join(demdata[i])\n",
    "    \n",
    "    with open(textpath, \"a\") as myfile:\n",
    "        myfile.write(stringLine + \"\\n\") # remember to use the \\n to go to next line\n",
    "\n",
    "\n"
   ]
  },
  {
   "cell_type": "code",
   "execution_count": 48,
   "metadata": {
    "collapsed": false
   },
   "outputs": [],
   "source": [
    "#use this script to detect what row of the tsv file an element lies within\n",
    "\n",
    "for i in range(1,len(demlist)):\n",
    "    if demlist[i][0] == '00006825':\n",
    "        print(i)"
   ]
  },
  {
   "cell_type": "code",
   "execution_count": 59,
   "metadata": {
    "collapsed": false
   },
   "outputs": [],
   "source": [
    "#use this script  to delete txt files\n",
    "\n",
    "import os\n",
    "import glob\n",
    "import csv\n",
    "import copy\n",
    "from functions import *\n",
    "\n",
    "folderpath = '/Users/carsonlam/macroeyes/Population_v2/'\n",
    "dirs = get_immediate_subdirectories(folderpath)\n",
    "len(dirs)\n",
    "\n",
    "\n",
    "for MRN in dirs:\n",
    "    \n",
    "    deletefolder = folderpath + str(MRN) + '/' + 'demographic.txt'\n",
    "    \n",
    "    if os.path.exists(deletefolder):\n",
    "        os.remove(deletefolder)"
   ]
  },
  {
   "cell_type": "code",
   "execution_count": 51,
   "metadata": {
    "collapsed": false
   },
   "outputs": [],
   "source": []
  },
  {
   "cell_type": "code",
   "execution_count": null,
   "metadata": {
    "collapsed": true
   },
   "outputs": [],
   "source": []
  }
 ],
 "metadata": {
  "kernelspec": {
   "display_name": "Python 3",
   "language": "python",
   "name": "python3"
  },
  "language_info": {
   "codemirror_mode": {
    "name": "ipython",
    "version": 3
   },
   "file_extension": ".py",
   "mimetype": "text/x-python",
   "name": "python",
   "nbconvert_exporter": "python",
   "pygments_lexer": "ipython3",
   "version": "3.5.1"
  }
 },
 "nbformat": 4,
 "nbformat_minor": 0
}
