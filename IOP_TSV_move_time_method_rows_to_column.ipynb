{
 "cells": [
  {
   "cell_type": "code",
   "execution_count": 1,
   "metadata": {
    "collapsed": true
   },
   "outputs": [],
   "source": [
    "import os\n",
    "import glob\n",
    "import csv\n",
    "import copy\n",
    "from functions import *"
   ]
  },
  {
   "cell_type": "code",
   "execution_count": 27,
   "metadata": {
    "collapsed": false
   },
   "outputs": [
    {
     "name": "stdout",
     "output_type": "stream",
     "text": [
      "PAT_MRN_ID, CONTACT_DATE, EXAM_CODE, EXAM_VALUE, Tonometry_Method, Tonometry_Time\n",
      "00018499,08/01/2012,Applanation,Tonometry - Method,1\n",
      "00018499,07/23/2010,11:54 AM,Tonometry - Time,1\n",
      "00018499,05/12/2010,Tonopen,Tonometry - Method,1\n",
      "00018499,08/01/2012,18,intraocular pressure - right,1\n",
      "00018499,11/09/2011,8:48 AM,Tonometry - Time,1\n",
      "00018499,05/13/2013,Yadav, Adil,Tonometry - Users,1\n",
      "00018499,07/23/2010,14,intraocular pressure - right,1\n",
      "00018499,01/30/2013,14,intraocular pressure - left,1\n",
      "00018499,08/01/2012,1:12 PM,Tonometry - Time,1\n",
      "00018499,07/23/2010,Tonopen,Tonometry - Method,1\n",
      "00018499,08/01/2012,Sunga, Ann,Tonometry - Users,1\n",
      "00018499,09/01/2015,13,intraocular pressure - right,1\n",
      "00018499,06/30/2010,10,intraocular pressure - right,1\n",
      "00018499,09/01/2015,17,intraocular pressure - left,1\n",
      "00018499,06/24/2010,Tonopen,Tonometry - Method,1\n",
      "00018499,05/13/2013,9:19 AM,Tonometry - Time,1\n",
      "00018499,05/13/2010,15,intraocular pressure - left,1\n",
      "00018499,04/24/2013,10:07 AM,Tonometry - Time,1\n",
      "00018499,06/30/2010,Tonopen,Tonometry - Method,1\n",
      "00018499,11/09/2011,12,intraocular pressure - right,1\n",
      "00018499,08/01/2012,16,intraocular pressure - left,1\n",
      "00018499,05/12/2010,14,intraocular pressure - right,1\n",
      "00018499,06/30/2010,10:44 AM,Tonometry - Time,1\n",
      "00018499,04/24/2013,17,intraocular pressure - left,1\n",
      "00018499,05/13/2013,13,intraocular pressure - left,1\n",
      "00018499,05/13/2010,9:15 AM,Tonometry - Time,1\n",
      "00018499,06/24/2010,8:12 AM,Tonometry - Time,1\n",
      "00018499,05/13/2013,12,intraocular pressure - right,1\n",
      "00018499,05/13/2010,14,intraocular pressure - right,1\n",
      "00018499,01/30/2013,14,intraocular pressure - right,1\n",
      "00018499,11/09/2011,Shaundra Pelkey,Tonometry - Users,1\n",
      "00018499,06/30/2010,13,intraocular pressure - left,1\n",
      "00018499,05/13/2013,Tonopen,Tonometry - Method,1\n",
      "00018499,06/24/2010,10,intraocular pressure - left,1\n",
      "00018499,04/24/2013,12,intraocular pressure - right,1\n",
      "00018499,09/01/2015,9:06 AM,Tonometry - Time,1\n",
      "00018499,05/13/2010,Tonopen,Tonometry - Method,1\n",
      "00018499,09/01/2015,Tonopen,Tonometry - Method,1\n",
      "00018499,11/09/2011,Tonopen,Tonometry - Method,1\n",
      "00018499,11/09/2011,16,intraocular pressure - left,1\n",
      "00018499,01/30/2013,Beyer, Jill E,Tonometry - Users,1\n",
      "00018499,04/24/2013,Tonopen,Tonometry - Method,1\n",
      "00018499,05/12/2010,10:31 AM,Tonometry - Time,1\n",
      "00018499,01/30/2013,10:38 AM,Tonometry - Time,1\n",
      "00018499,05/12/2010,16,intraocular pressure - left,1\n",
      "00018499,09/01/2015,Ehsan, Jamila,Tonometry - Users,1\n",
      "00018499,01/30/2013,Applanation,Tonometry - Method,1\n",
      "00018499,04/24/2013,Amosa, Lawrence, MA,Tonometry - Users,1\n"
     ]
    }
   ],
   "source": [
    "# JUST DISPLAYING RAW DIMENSION\n",
    "textpath = \"C:/Users/carson/Documents/macroeyes/examples/bad/IOP1.txt\"\n",
    "#textpath = \"C:/Users/carson/Documents/macroeyes/examples/good/IOP.txt\"\n",
    "\n",
    "if os.path.exists(textpath):\n",
    "\n",
    "        f = open(textpath, \"r\",encoding = 'iso-8859-1') \n",
    "\n",
    "        readfile = csv.reader(f)\n",
    "\n",
    "        allrows = list(readfile)\n",
    "\n",
    "        f.close()\n",
    "        \n",
    "        header = allrows[0]\n",
    "        \n",
    "        datarows = allrows[1:]\n",
    "\n",
    "for row in allrows:\n",
    "    print(list_to_String(row))"
   ]
  },
  {
   "cell_type": "code",
   "execution_count": 29,
   "metadata": {
    "collapsed": false
   },
   "outputs": [
    {
     "name": "stdout",
     "output_type": "stream",
     "text": [
      "00018499,08-01-2012,\"Applanation\",Tonometry - Method,1\n"
     ]
    }
   ],
   "source": [
    "# convert to dashes datetimes, place quotation marks\n",
    "date_indices = [1]\n",
    "freeText_indices = [2]\n",
    "for i in range(len(datarows)):\n",
    "    \n",
    "    # converting the data String to d/m/y\n",
    "    for date_index in date_indices:\n",
    "        datarows[i][date_index] = datarows[i][date_index].replace(\"/\", \"-\")\n",
    "    for freeText_index in freeText_indices:\n",
    "        datarows[i][freeText_index] = '\"' +datarows[i][freeText_index] + '\"'\n",
    "    for j in range(len(datarows[i])):\n",
    "        if datarows[i][j] == \"\":\n",
    "            datarows[i][j] = '\"\"'\n",
    "            \n",
    "print(list_to_String(datarows[0]))"
   ]
  },
  {
   "cell_type": "code",
   "execution_count": 31,
   "metadata": {
    "collapsed": false
   },
   "outputs": [],
   "source": [
    "testrows = datarows"
   ]
  },
  {
   "cell_type": "code",
   "execution_count": 36,
   "metadata": {
    "collapsed": false
   },
   "outputs": [],
   "source": [
    "# sort the list of data by their dates using \n",
    "import datetime\n",
    "sortedrows = sorted(testrows, key=lambda date: datetime.datetime.strptime(rows[1], '%m-%d-%Y'))"
   ]
  },
  {
   "cell_type": "code",
   "execution_count": 38,
   "metadata": {
    "collapsed": false
   },
   "outputs": [
    {
     "name": "stdout",
     "output_type": "stream",
     "text": [
      "['00018499', '05-12-2010', '\"Tonopen\"', 'Tonometry - Method', '1']\n",
      "['00018499', '05-12-2010', '\"14\"', 'intraocular pressure - right', '1']\n",
      "['00018499', '05-12-2010', '\"10:31 AM\"', 'Tonometry - Time', '1']\n",
      "['00018499', '05-12-2010', '\"16\"', 'intraocular pressure - left', '1']\n",
      "['00018499', '05-13-2010', '\"15\"', 'intraocular pressure - left', '1']\n",
      "['00018499', '05-13-2010', '\"9:15 AM\"', 'Tonometry - Time', '1']\n",
      "['00018499', '05-13-2010', '\"14\"', 'intraocular pressure - right', '1']\n",
      "['00018499', '05-13-2010', '\"Tonopen\"', 'Tonometry - Method', '1']\n",
      "['00018499', '06-24-2010', '\"Tonopen\"', 'Tonometry - Method', '1']\n",
      "['00018499', '06-24-2010', '\"8:12 AM\"', 'Tonometry - Time', '1']\n",
      "['00018499', '06-24-2010', '\"10\"', 'intraocular pressure - left', '1']\n",
      "['00018499', '06-30-2010', '\"10\"', 'intraocular pressure - right', '1']\n",
      "['00018499', '06-30-2010', '\"Tonopen\"', 'Tonometry - Method', '1']\n",
      "['00018499', '06-30-2010', '\"10:44 AM\"', 'Tonometry - Time', '1']\n",
      "['00018499', '06-30-2010', '\"13\"', 'intraocular pressure - left', '1']\n",
      "['00018499', '07-23-2010', '\"11:54 AM\"', 'Tonometry - Time', '1']\n",
      "['00018499', '07-23-2010', '\"14\"', 'intraocular pressure - right', '1']\n",
      "['00018499', '07-23-2010', '\"Tonopen\"', 'Tonometry - Method', '1']\n",
      "['00018499', '11-09-2011', '\"8:48 AM\"', 'Tonometry - Time', '1']\n",
      "['00018499', '11-09-2011', '\"12\"', 'intraocular pressure - right', '1']\n",
      "['00018499', '11-09-2011', '\"Shaundra Pelkey\"', 'Tonometry - Users', '1']\n",
      "['00018499', '11-09-2011', '\"Tonopen\"', 'Tonometry - Method', '1']\n",
      "['00018499', '11-09-2011', '\"16\"', 'intraocular pressure - left', '1']\n",
      "['00018499', '08-01-2012', '\"Applanation\"', 'Tonometry - Method', '1']\n",
      "['00018499', '08-01-2012', '\"18\"', 'intraocular pressure - right', '1']\n",
      "['00018499', '08-01-2012', '\"1:12 PM\"', 'Tonometry - Time', '1']\n",
      "['00018499', '08-01-2012', '\"Sunga\"', ' Ann', 'Tonometry - Users', '1']\n",
      "['00018499', '08-01-2012', '\"16\"', 'intraocular pressure - left', '1']\n",
      "['00018499', '01-30-2013', '\"14\"', 'intraocular pressure - left', '1']\n",
      "['00018499', '01-30-2013', '\"14\"', 'intraocular pressure - right', '1']\n",
      "['00018499', '01-30-2013', '\"Beyer\"', ' Jill E', 'Tonometry - Users', '1']\n",
      "['00018499', '01-30-2013', '\"10:38 AM\"', 'Tonometry - Time', '1']\n",
      "['00018499', '01-30-2013', '\"Applanation\"', 'Tonometry - Method', '1']\n",
      "['00018499', '04-24-2013', '\"10:07 AM\"', 'Tonometry - Time', '1']\n",
      "['00018499', '04-24-2013', '\"17\"', 'intraocular pressure - left', '1']\n",
      "['00018499', '04-24-2013', '\"12\"', 'intraocular pressure - right', '1']\n",
      "['00018499', '04-24-2013', '\"Tonopen\"', 'Tonometry - Method', '1']\n",
      "['00018499', '04-24-2013', '\"Amosa\"', ' Lawrence', ' MA', 'Tonometry - Users', '1']\n",
      "['00018499', '05-13-2013', '\"Yadav\"', ' Adil', 'Tonometry - Users', '1']\n",
      "['00018499', '05-13-2013', '\"9:19 AM\"', 'Tonometry - Time', '1']\n",
      "['00018499', '05-13-2013', '\"13\"', 'intraocular pressure - left', '1']\n",
      "['00018499', '05-13-2013', '\"12\"', 'intraocular pressure - right', '1']\n",
      "['00018499', '05-13-2013', '\"Tonopen\"', 'Tonometry - Method', '1']\n",
      "['00018499', '09-01-2015', '\"13\"', 'intraocular pressure - right', '1']\n",
      "['00018499', '09-01-2015', '\"17\"', 'intraocular pressure - left', '1']\n",
      "['00018499', '09-01-2015', '\"9:06 AM\"', 'Tonometry - Time', '1']\n",
      "['00018499', '09-01-2015', '\"Tonopen\"', 'Tonometry - Method', '1']\n",
      "['00018499', '09-01-2015', '\"Ehsan\"', ' Jamila', 'Tonometry - Users', '1']\n"
     ]
    }
   ],
   "source": [
    "# PAT_MRN_ID, CONTACT_DATE, EXAM_CODE, EXAM_VALUE, Tonometry_Method, Tonometry_Time\n",
    "for row in sortedrows:\n",
    "    print(row)"
   ]
  },
  {
   "cell_type": "code",
   "execution_count": 47,
   "metadata": {
    "collapsed": false
   },
   "outputs": [
    {
     "name": "stdout",
     "output_type": "stream",
     "text": [
      "00018499,05-12-2010,intraocular pressure - right,\"14\",\"Tonopen\",\"10:31 AM\"\n",
      "00018499,05-12-2010,intraocular pressure - left,\"16\",\"Tonopen\",\"10:31 AM\"\n",
      "00018499,05-13-2010,intraocular pressure - right,\"14\",\"Tonopen\",\"9:15 AM\"\n",
      "00018499,05-13-2010,intraocular pressure - left,\"15\",\"Tonopen\",\"9:15 AM\"\n",
      "00018499,06-24-2010,intraocular pressure - left,\"10\",\"Tonopen\",\"8:12 AM\"\n",
      "00018499,06-30-2010,intraocular pressure - right,\"10\",\"Tonopen\",\"10:44 AM\"\n",
      "00018499,06-30-2010,intraocular pressure - left,\"13\",\"Tonopen\",\"10:44 AM\"\n",
      "00018499,07-23-2010,intraocular pressure - right,\"14\",\"Tonopen\",\"11:54 AM\"\n",
      "00018499,11-09-2011,intraocular pressure - right,\"12\",\"Tonopen\",\"8:48 AM\"\n",
      "00018499,11-09-2011,intraocular pressure - left,\"16\",\"Tonopen\",\"8:48 AM\"\n",
      "00018499,08-01-2012,intraocular pressure - right,\"18\",\"Applanation\",\"1:12 PM\"\n",
      "00018499,08-01-2012,intraocular pressure - left,\"16\",\"Applanation\",\"1:12 PM\"\n",
      "00018499,01-30-2013,intraocular pressure - right,\"14\",\"Applanation\",\"10:38 AM\"\n",
      "00018499,01-30-2013,intraocular pressure - left,\"14\",\"Applanation\",\"10:38 AM\"\n",
      "00018499,04-24-2013,intraocular pressure - right,\"12\",\"Tonopen\",\"10:07 AM\"\n",
      "00018499,04-24-2013,intraocular pressure - left,\"17\",\"Tonopen\",\"10:07 AM\"\n",
      "00018499,05-13-2013,intraocular pressure - right,\"12\",\"Tonopen\",\"9:19 AM\"\n",
      "00018499,05-13-2013,intraocular pressure - left,\"13\",\"Tonopen\",\"9:19 AM\"\n"
     ]
    }
   ],
   "source": [
    "# create newdatarows\n",
    "newdatarows = []\n",
    "temprow = []\n",
    "# PAT_MRN_ID, CONTACT_DATE, EXAM_CODE, EXAM_VALUE, Tonometry_Method, Tonometry_Time\n",
    "\n",
    "PAT_MRN_ID =  sortedrows[0][0]\n",
    "\n",
    "Tonometry_Method, Tonometry_Time = \"\",\"\"\n",
    "current_date = sortedrows[0][1]\n",
    "RVA,LVA = \"\",\"\"\n",
    "R_EXAM_CODE,L_EXAM_CODE = \"\",\"\"\n",
    "\n",
    "for i in range(len(sortedrows)):\n",
    "    if sortedrows[i][1] != current_date:\n",
    "        # initiate appending / resetting variables protocol\n",
    "        if RVA != \"\":\n",
    "            #build right vision row\n",
    "            temprow.append(PAT_MRN_ID)\n",
    "            temprow.append(current_date)\n",
    "            temprow.append(R_EXAM_CODE)\n",
    "            temprow.append(RVA)\n",
    "            temprow.append(Tonometry_Method)\n",
    "            temprow.append(Tonometry_Time)\n",
    "            #appendrow to final datalist\n",
    "            newdatarows.append(temprow)\n",
    "            #reset temprow\n",
    "            temprow = []\n",
    "  \n",
    "        if LVA != \"\":\n",
    "            #build right vision row\n",
    "            temprow.append(PAT_MRN_ID)\n",
    "            temprow.append(current_date)\n",
    "            temprow.append(L_EXAM_CODE)\n",
    "            temprow.append(LVA)\n",
    "            temprow.append(Tonometry_Method)\n",
    "            temprow.append(Tonometry_Time)\n",
    "            #appendrow to final datalist\n",
    "            newdatarows.append(temprow)\n",
    "            #reset temprow\n",
    "            temprow = []\n",
    "        \n",
    "        # reset variable and set current date to new in prep for next set \n",
    "        Tonometry_Method, Tonometry_Time = \"\",\"\"\n",
    "        current_date = sortedrows[i][1]\n",
    "        RVA,LVA = \"\",\"\"\n",
    "        R_EXAM_CODE,L_EXAM_CODE = \"\",\"\"\n",
    "    \n",
    "    if \"Method\" in sortedrows[i][3]:\n",
    "        Tonometry_Method = sortedrows[i][2]\n",
    "    if \"Time\" in sortedrows[i][3]:\n",
    "        Tonometry_Time = sortedrows[i][2]\n",
    "    if \"right\" in sortedrows[i][3]:\n",
    "        RVA = sortedrows[i][2]\n",
    "        R_EXAM_CODE = sortedrows[i][3]\n",
    "    if \"left\" in sortedrows[i][3]:\n",
    "        LVA = sortedrows[i][2]\n",
    "        L_EXAM_CODE = sortedrows[i][3]\n",
    "        \n",
    "for row in newdatarows:\n",
    "    print(list_to_String(row)) "
   ]
  },
  {
   "cell_type": "code",
   "execution_count": null,
   "metadata": {
    "collapsed": true
   },
   "outputs": [],
   "source": []
  }
 ],
 "metadata": {
  "kernelspec": {
   "display_name": "Python 3",
   "language": "python",
   "name": "python3"
  },
  "language_info": {
   "codemirror_mode": {
    "name": "ipython",
    "version": 3
   },
   "file_extension": ".py",
   "mimetype": "text/x-python",
   "name": "python",
   "nbconvert_exporter": "python",
   "pygments_lexer": "ipython3",
   "version": "3.5.1"
  }
 },
 "nbformat": 4,
 "nbformat_minor": 0
}
