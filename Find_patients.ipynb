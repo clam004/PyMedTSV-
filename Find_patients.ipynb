{
 "cells": [
  {
   "cell_type": "code",
   "execution_count": 1,
   "metadata": {
    "collapsed": true
   },
   "outputs": [],
   "source": [
    "import os\n",
    "import glob\n",
    "import csv\n",
    "import copy\n",
    "from functions import *"
   ]
  },
  {
   "cell_type": "code",
   "execution_count": 2,
   "metadata": {
    "collapsed": true
   },
   "outputs": [],
   "source": [
    "# define paths\n",
    "source_folderpath = \"/Users/carsonlam/macroeyes/4th_extraction/\"\n",
    "Population_path = \"/Users/carsonlam/macroeyes/Population_v2/\""
   ]
  },
  {
   "cell_type": "code",
   "execution_count": 3,
   "metadata": {
    "collapsed": true
   },
   "outputs": [],
   "source": [
    "# load raw data to memory in a list\n",
    "with open(source_folderpath + \"icd9.tsv\") as tsvfile:\n",
    "    tsvreader = csv.reader(tsvfile, delimiter=\"\\t\")\n",
    "    tsvlist = list(tsvreader)"
   ]
  },
  {
   "cell_type": "code",
   "execution_count": 4,
   "metadata": {
    "collapsed": false
   },
   "outputs": [
    {
     "name": "stdout",
     "output_type": "stream",
     "text": [
      "PAT_MRN_ID,PAT_ID,DX_CODE,DX_NAME,CODE_TYPE,CODE_DATE\n"
     ]
    }
   ],
   "source": [
    "# turn the first line into a header for your data\n",
    "header = tsvlist[0]\n",
    "# the first line is itself a list and must be turned into a string to write to file, ',' is our delimiter\n",
    "d=','\n",
    "stringheader = d.join(header)\n",
    "print(stringheader)"
   ]
  },
  {
   "cell_type": "code",
   "execution_count": 5,
   "metadata": {
    "collapsed": false
   },
   "outputs": [
    {
     "name": "stdout",
     "output_type": "stream",
     "text": [
      "2758250\n"
     ]
    }
   ],
   "source": [
    "# Take the lines of data (all lines after the first , the header) and put in separate list\n",
    "tsvdata = tsvlist[1:]\n",
    "# the list is zero indexed so the last element is len(tsvdata) - 1\n",
    "print(len(tsvdata))"
   ]
  },
  {
   "cell_type": "code",
   "execution_count": 40,
   "metadata": {
    "collapsed": false
   },
   "outputs": [
    {
     "name": "stdout",
     "output_type": "stream",
     "text": [
      "5\n"
     ]
    }
   ],
   "source": [
    "def validate(date_text):\n",
    "    try:\n",
    "        datetime.datetime.strptime(date_text, '%m/%d/%Y')\n",
    "        return True \n",
    "    except ValueError:\n",
    "        return False "
   ]
  },
  {
   "cell_type": "code",
   "execution_count": 70,
   "metadata": {
    "collapsed": false
   },
   "outputs": [
    {
     "name": "stdout",
     "output_type": "stream",
     "text": [
      "0.0\n",
      "0.18127435874195594\n",
      "0.3625487174839119\n",
      "0.5438230762258679\n",
      "0.7250974349678238\n",
      "0.9063717937097797\n",
      "28\n"
     ]
    }
   ],
   "source": [
    "import time\n",
    "\n",
    "month_epochs = 2629743\n",
    "TODAY_EPOCH = int(time.time())\n",
    "pattern = '%m/%d/%Y'\n",
    "result = []\n",
    "\n",
    "for i in range(len(tsvdata)):\n",
    "    \n",
    "    CODE_DATE = tsvdata[i][5]\n",
    "    if validate(CODE_DATE):\n",
    "        CODE_EPOCH = int(time.mktime(time.strptime(CODE_DATE, pattern)))\n",
    "        AGE = TODAY_EPOCH - CODE_EPOCH\n",
    "    #if tsvdata[i][2] == \"360.00\" and AGE < month_epochs*12 and tsvdata[i] not in result:\n",
    "    if tsvdata[i][2] == \"360.00\" and AGE < month_epochs*32 and tsvdata[i][0] not in result:\n",
    "            result.append(tsvdata[i][0])\n",
    "            \n",
    "    if i%500000==0:\n",
    "         print(i/len(tsvdata))\n",
    "        \n",
    "print(len(result))"
   ]
  },
  {
   "cell_type": "code",
   "execution_count": 72,
   "metadata": {
    "collapsed": false
   },
   "outputs": [
    {
     "name": "stdout",
     "output_type": "stream",
     "text": [
      "30033658\n",
      "28359115\n",
      "17274747\n",
      "21512447\n",
      "05381777\n",
      "29137452\n",
      "27631753\n",
      "29507191\n",
      "31131071\n",
      "32619496\n",
      "25516568\n",
      "21064456\n",
      "07621873\n",
      "22992994\n",
      "30911697\n",
      "30309959\n",
      "23378326\n",
      "30373203\n",
      "02458966\n",
      "23521826\n",
      "11555125\n",
      "30309116\n",
      "13500830\n",
      "29185030\n",
      "26425686\n",
      "20640454\n",
      "00095919\n",
      "30381677\n"
     ]
    }
   ],
   "source": [
    "for pt in result:\n",
    "    #d=','\n",
    "    #string = d.join(pt)\n",
    "    print(pt)\n",
    "    "
   ]
  },
  {
   "cell_type": "code",
   "execution_count": 32,
   "metadata": {
    "collapsed": false
   },
   "outputs": [
    {
     "name": "stdout",
     "output_type": "stream",
     "text": [
      "1441522800\n"
     ]
    }
   ],
   "source": [
    "import time\n",
    "\n",
    "date_time = '03/22/2015'\n",
    "pattern = '%m/%d/%Y'\n",
    "epoch = int(time.mktime(time.strptime(result[1][5], pattern)))\n",
    "print(epoch)"
   ]
  }
 ],
 "metadata": {
  "kernelspec": {
   "display_name": "Python 3",
   "language": "python",
   "name": "python3"
  },
  "language_info": {
   "codemirror_mode": {
    "name": "ipython",
    "version": 3
   },
   "file_extension": ".py",
   "mimetype": "text/x-python",
   "name": "python",
   "nbconvert_exporter": "python",
   "pygments_lexer": "ipython3",
   "version": "3.5.1"
  }
 },
 "nbformat": 4,
 "nbformat_minor": 0
}
