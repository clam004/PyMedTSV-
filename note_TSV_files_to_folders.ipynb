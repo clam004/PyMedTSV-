{
 "cells": [
  {
   "cell_type": "code",
   "execution_count": 1,
   "metadata": {
    "collapsed": true
   },
   "outputs": [],
   "source": [
    "import os\n",
    "import glob\n",
    "import csv\n",
    "import copy\n",
    "from functions import *"
   ]
  },
  {
   "cell_type": "code",
   "execution_count": null,
   "metadata": {
    "collapsed": false
   },
   "outputs": [
    {
     "name": "stdout",
     "output_type": "stream",
     "text": [
      "PAT_MRN_ID,NOTE_DATE,NOTE_TYPE,NOTE_TEXT\n"
     ]
    }
   ],
   "source": [
    "# define paths\n",
    "source_folderpath = \"/Users/carsonlam/macroeyes/4th_extraction/\"\n",
    "Population_path = \"/Users/carsonlam/macroeyes/Population_v2/\"\n",
    "# get a list of all folders in a folder\n",
    "dirs = get_immediate_subdirectories(Population_path)\n",
    "len(dirs)\n",
    "\n",
    "source_path = source_folderpath + \"note1.tsv\"\n",
    "tsvlist = get_TSV_list(source_path)\n",
    "# turn the first line into a String header for your data, ',' is our delimiter\n",
    "note_indices = [ 2, 9, 10, 12]\n",
    "subheader = [tsvlist[0][note_index] for note_index in note_indices]\n",
    "stringheader = list_to_String(subheader)\n",
    "print(stringheader)\n",
    "# create the txt file with header inside\n",
    "#DIMENSION_NAME = \"picd9.txt\"\n",
    "DIMENSION_NAME = \"note.txt\"\n",
    "IOPheader = stringheader \n",
    "# IOPheader = \"PAT_MRN_ID, CONTACT_DATE, EXAM_CODE, EXAM_VALUE, Tonometry_Method, Tonometry_Time\"\n",
    "\n",
    "for MRN in dirs:\n",
    "    \n",
    "    textpath = Population_path + str(MRN) + '/' + DIMENSION_NAME\n",
    "    if os.path.exists(Population_path + str(MRN)) and not os.path.exists(textpath):\n",
    "    \n",
    "        # create add the file \n",
    "        file = open(textpath, \"w\")\n",
    "        file.write(IOPheader + \"\\n\") # remember to use the \\n to go to next line \n",
    "        file.close()"
   ]
  },
  {
   "cell_type": "code",
   "execution_count": null,
   "metadata": {
    "collapsed": false
   },
   "outputs": [
    {
     "name": "stdout",
     "output_type": "stream",
     "text": [
      "6999999  lines of data\n",
      "1,371294661,09645441,Z1510861,11/04/2015,92134,131031086737,06/10/2014,512,06/10/2014,Patient Instructions,3,Medical doctors are licensed and regulated by the Medical Board of California  (800) 633-2322  Www.mbc.ca.gov\n",
      "0.0\n",
      "0.09999987142855306\n",
      "0.19999974285710612\n",
      "0.2999996142856592\n",
      "0.39999948571421223\n",
      "0.49999935714276533\n",
      "0.5999992285713184\n",
      "0.6999990999998714\n"
     ]
    }
   ],
   "source": [
    "# load raw data to memory in a list\n",
    "\n",
    "# Take the lines of data (all lines after the first , the header) and put in separate list\n",
    "tsvdata = tsvlist[1:]\n",
    "# the list is zero indexed so the last element is len(tsvdata) - 1\n",
    "print(str(len(tsvdata)) + \"  lines of data\")\n",
    "firstLine = list_to_String(tsvdata[0])\n",
    "print(firstLine)\n",
    "\n",
    "note_indices = [ 2, 9, 10, 12]\n",
    "date_indices = [9]\n",
    "freeText_indices = [10,12]\n",
    "subdata = []\n",
    "\n",
    "subheader = [tsvlist[0][note_index] for note_index in note_indices]\n",
    "\n",
    "for i in range(len(tsvdata)):\n",
    "    for date_index in date_indices:\n",
    "        tsvdata[i][date_index] = tsvdata[i][date_index].replace(\"/\", \"-\")\n",
    "    for freeText_index in freeText_indices:\n",
    "        tsvdata[i][freeText_index] = '\"' + tsvdata[i][freeText_index] + '\"'\n",
    "    for j in range(len(tsvdata[i])):\n",
    "        if tsvdata[i][j] == \"\":\n",
    "            tsvdata[i][j] = '\"\"'\n",
    "            \n",
    "    subdata.append([tsvdata[i][note_index] for note_index in note_indices])\n",
    "    if i%(int(len(tsvdata)/10)) == 0:\n",
    "        print(i/len(tsvdata))"
   ]
  },
  {
   "cell_type": "code",
   "execution_count": null,
   "metadata": {
    "collapsed": false
   },
   "outputs": [],
   "source": [
    "print(list_to_String(subheader))\n",
    "print(list_to_String(subdata[1]))"
   ]
  },
  {
   "cell_type": "code",
   "execution_count": 18,
   "metadata": {
    "collapsed": false
   },
   "outputs": [],
   "source": [
    "# create the txt file with header inside\n",
    "#DIMENSION_NAME = \"picd9.txt\"\n",
    "DIMENSION_NAME = \"note.txt\"\n",
    "IOPheader = stringheader \n",
    "# IOPheader = \"PAT_MRN_ID, CONTACT_DATE, EXAM_CODE, EXAM_VALUE, Tonometry_Method, Tonometry_Time\"\n",
    "\n",
    "for MRN in dirs:\n",
    "    \n",
    "    textpath = Population_path + str(MRN) + '/' + DIMENSION_NAME\n",
    "    if os.path.exists(Population_path + str(MRN)) and not os.path.exists(textpath):\n",
    "    \n",
    "        # create add the file \n",
    "        file = open(textpath, \"w\")\n",
    "        file.write(IOPheader + \"\\n\") # remember to use the \\n to go to next line \n",
    "        file.close()"
   ]
  },
  {
   "cell_type": "code",
   "execution_count": null,
   "metadata": {
    "collapsed": false
   },
   "outputs": [],
   "source": [
    "# Script for inserting the data into it's txt file in pt folders, if the txt file exists\n",
    "for i in range(len(subdata)):\n",
    "    \n",
    "    # Divert data\n",
    "    #if \"ICD9CM\" in tsvdata[i][4]:\n",
    "        #DIMENSION_NAME = \"picd9.txt\"\n",
    "        \n",
    "    #if \"CPT\" in tsvdata[i][4]:\n",
    "        #DIMENSION_NAME = \"cpt.txt\"\n",
    "    \n",
    "    # build the path\n",
    "    patient_folder_path = Population_path + subdata[i][0]\n",
    "    textpath = patient_folder_path + \"/\" + DIMENSION_NAME\n",
    "    if os.path.exists(textpath):\n",
    "    # convert he data into strings\n",
    "        d = ','\n",
    "        stringLine = d.join(subdata[i])\n",
    "\n",
    "        with open(textpath, \"a\") as myfile:\n",
    "            myfile.write(stringLine + \"\\n\") # remember to use the \\n to go to next line\n",
    "            \n",
    "    if i%(int(len(tsvdata)/10)) == 0:\n",
    "        print(i/len(tsvdata))"
   ]
  },
  {
   "cell_type": "code",
   "execution_count": 22,
   "metadata": {
    "collapsed": false
   },
   "outputs": [
    {
     "name": "stdout",
     "output_type": "stream",
     "text": [
      "1724673 130\n"
     ]
    }
   ],
   "source": [
    "# testing to see if there is a folder for each of these data points\n",
    "nope = 0\n",
    "have = 0\n",
    "for i in range(len(tsvdata)):\n",
    "    \n",
    "    # build the path\n",
    "    patient_folder_path = Population_path + tsvdata[i][0]\n",
    "    \n",
    "    if not os.path.exists(patient_folder_path):\n",
    "        nope+=1\n",
    "    else:\n",
    "        have+=1\n",
    "        \n",
    "print(have,nope)"
   ]
  },
  {
   "cell_type": "code",
   "execution_count": 34,
   "metadata": {
    "collapsed": true
   },
   "outputs": [],
   "source": []
  },
  {
   "cell_type": "code",
   "execution_count": null,
   "metadata": {
    "collapsed": false
   },
   "outputs": [
    {
     "name": "stdout",
     "output_type": "stream",
     "text": [
      "0.0\n",
      "0.09999987806528629\n",
      "0.19999975613057258\n"
     ]
    }
   ],
   "source": []
  },
  {
   "cell_type": "code",
   "execution_count": 10,
   "metadata": {
    "collapsed": false
   },
   "outputs": [
    {
     "data": {
      "text/plain": [
       "172480"
      ]
     },
     "execution_count": 10,
     "metadata": {},
     "output_type": "execute_result"
    }
   ],
   "source": [
    "# USE CAREFULLY, SCRIPT TO DELETE FILES\n",
    "\n",
    "filename = 'picd9.txt'\n",
    "\n",
    "for MRN in dirs:\n",
    "    \n",
    "    deletefolder = Population_path + str(MRN) + '/' + filename\n",
    "    \n",
    "    if os.path.exists(deletefolder):\n",
    "        os.remove(deletefolder)"
   ]
  },
  {
   "cell_type": "code",
   "execution_count": null,
   "metadata": {
    "collapsed": true
   },
   "outputs": [],
   "source": []
  }
 ],
 "metadata": {
  "kernelspec": {
   "display_name": "Python 3",
   "language": "python",
   "name": "python3"
  },
  "language_info": {
   "codemirror_mode": {
    "name": "ipython",
    "version": 3
   },
   "file_extension": ".py",
   "mimetype": "text/x-python",
   "name": "python",
   "nbconvert_exporter": "python",
   "pygments_lexer": "ipython3",
   "version": "3.5.1"
  }
 },
 "nbformat": 4,
 "nbformat_minor": 0
}
