{
 "cells": [
  {
   "cell_type": "code",
   "execution_count": 1,
   "metadata": {
    "collapsed": true
   },
   "outputs": [],
   "source": [
    "import os\n",
    "import glob\n",
    "import csv\n",
    "import copy\n",
    "from functions import *\n",
    "from variables import * # import the list of headers"
   ]
  },
  {
   "cell_type": "code",
   "execution_count": 2,
   "metadata": {
    "collapsed": false
   },
   "outputs": [],
   "source": [
    "Population_path = \"/Users/carsonlam/macroeyes/Population_v2/\"\n",
    "#print(headerlist)"
   ]
  },
  {
   "cell_type": "code",
   "execution_count": 3,
   "metadata": {
    "collapsed": false
   },
   "outputs": [],
   "source": [
    "dim_header = {}\n",
    "dim_list = ['cpt', 'demographic', 'icd9', 'IOP', 'meds', 'note', 'orders', 'picd9', 'VA']\n",
    "\n",
    "i = 0\n",
    "for dim in dim_list:\n",
    "    dim_header[dim] = headerlist[i]\n",
    "    i+=1"
   ]
  },
  {
   "cell_type": "code",
   "execution_count": 5,
   "metadata": {
    "collapsed": false
   },
   "outputs": [
    {
     "name": "stdout",
     "output_type": "stream",
     "text": [
      "0.09998070801581943\n",
      "0.19996141603163886\n",
      "0.2999421240474583\n",
      "0.3999228320632777\n",
      "0.49990354007909715\n",
      "0.5998842480949166\n",
      "0.699864956110736\n",
      "0.7998456641265554\n",
      "0.8998263721423748\n",
      "0.9998070801581943\n"
     ]
    }
   ],
   "source": [
    "dirs = get_immediate_subdirectories(Population_path)\n",
    "\n",
    "di = 0\n",
    "for MRN in dirs:\n",
    "    \n",
    "    for dim, header in dim_header.items():\n",
    "        \n",
    "        dimpath = Population_path + MRN + '/' + dim + '.txt'\n",
    "        \n",
    "        if not os.path.exists(dimpath):\n",
    "            \n",
    "            #print(dim + \" does not exist in: \" + MRN + \" use header: \" + header)\n",
    "            \n",
    "            file = open(dimpath, \"w\")\n",
    "            file.write(header + \"\\n\") # remember to use the \\n to go to next line \n",
    "            file.close()\n",
    "    di+=1        \n",
    "    if di % (int(len(dirs)/10)) == 0:\n",
    "        print(di/len(dirs))"
   ]
  },
  {
   "cell_type": "code",
   "execution_count": 6,
   "metadata": {
    "collapsed": false
   },
   "outputs": [
    {
     "data": {
      "text/plain": [
       "{'IOP': 'PAT_MRN_ID, CONTACT_DATE, EXAM_CODE, EXAM_VALUE, Tonometry_Method, Tonometry_Time',\n",
       " 'VA': 'PAT_MRN_ID, CONTACT_DATE, EXAM_CODE, EXAM_VALUE, EXAM_Method, Correction',\n",
       " 'cpt': 'PAT_MRN_ID,PAT_ID,PROC_CODE,PROC_NAME,PROC_CODE_1,CODE_DATE',\n",
       " 'demographic': 'PAT_MRN_ID,PAT_ID,BIRTH_DATE,DEATH_DATE,GENDER,PRIMARY_RACE,ETHNICITY,BMI',\n",
       " 'icd9': 'PAT_MRN_ID,PAT_ID,DX_CODE,DX_NAME,CODE_TYPE,CODE_DATE',\n",
       " 'meds': 'PAT_MRN_ID,ORDER_MED_ID,MEDICATION_ID,DISPLAY_NAME,GENERIC_NAME,ORDERING_DATE,START_DATE,END_DATE,ORDER_MODE,MED_PROVIDER,MED_FORM,MED_STRENGTH,MED_ROUTE,THERA_CLASS_C,THERA_CLASS,PHARM_CLASS,FREQ_NAME,QUANTITY,REFILLS,DOSE,DOSE_UNIT',\n",
       " 'note': 'PAT_MRN_ID,NOTE_DATE,NOTE_TYPE,NOTE_TEXT',\n",
       " 'orders': 'PAT_MRN_ID,ORDER_PROC_ID,CONTACT_DATE,PAT_ENC_CSN_ID,VISIT_NAME,PROC_CODE,DESCRIPTION,DEP_NAME,DEPARTMENT_ID',\n",
       " 'picd9': 'PAT_MRN_ID,PAT_ID,PROC_CODE,PROC_NAME,PROC_CODE_1,CODE_DATE'}"
      ]
     },
     "execution_count": 6,
     "metadata": {},
     "output_type": "execute_result"
    }
   ],
   "source": [
    "dim_header"
   ]
  },
  {
   "cell_type": "code",
   "execution_count": null,
   "metadata": {
    "collapsed": true
   },
   "outputs": [],
   "source": []
  }
 ],
 "metadata": {
  "kernelspec": {
   "display_name": "Python 3",
   "language": "python",
   "name": "python3"
  },
  "language_info": {
   "codemirror_mode": {
    "name": "ipython",
    "version": 3
   },
   "file_extension": ".py",
   "mimetype": "text/x-python",
   "name": "python",
   "nbconvert_exporter": "python",
   "pygments_lexer": "ipython3",
   "version": "3.5.1"
  }
 },
 "nbformat": 4,
 "nbformat_minor": 0
}
