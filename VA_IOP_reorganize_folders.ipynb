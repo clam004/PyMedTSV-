{
 "cells": [
  {
   "cell_type": "code",
   "execution_count": 1,
   "metadata": {
    "collapsed": false
   },
   "outputs": [],
   "source": [
    "import os\n",
    "import glob\n",
    "import csv\n",
    "import copy\n",
    "from functions import *"
   ]
  },
  {
   "cell_type": "code",
   "execution_count": 2,
   "metadata": {
    "collapsed": false
   },
   "outputs": [
    {
     "data": {
      "text/plain": [
       "20734"
      ]
     },
     "execution_count": 2,
     "metadata": {},
     "output_type": "execute_result"
    }
   ],
   "source": [
    "folderpath = '/Users/carsonlam/macroeyes/Population_v2/'\n",
    "dirs = get_immediate_subdirectories(folderpath)\n",
    "len(dirs)"
   ]
  },
  {
   "cell_type": "code",
   "execution_count": 4,
   "metadata": {
    "collapsed": false
   },
   "outputs": [
    {
     "name": "stdout",
     "output_type": "stream",
     "text": [
      "0.09998070801581943\n",
      "0.19996141603163886\n",
      "0.2999421240474583\n",
      "0.3999228320632777\n",
      "0.49990354007909715\n",
      "0.5998842480949166\n",
      "0.699864956110736\n",
      "0.7998456641265554\n",
      "0.8998263721423748\n",
      "0.9998070801581943\n"
     ]
    }
   ],
   "source": [
    "#DIMENSION_NAME = \"VA.txt\"\n",
    "di = 0\n",
    "for MRN in dirs:\n",
    "    #print(MRN)\n",
    "    textpath = folderpath + str(MRN) + '/' + DIMENSION_NAME\n",
    "    if os.path.exists(textpath):\n",
    "        VAheader, VArows = VAfile_to_Colrow(textpath)\n",
    "    \n",
    "    file = open(textpath, \"w\")\n",
    "    file.write(VAheader + \"\\n\")\n",
    "    file.close()\n",
    "    \n",
    "    s=','\n",
    "    with open(textpath, \"a\") as myfile:\n",
    "        for row in VArows:\n",
    "            srow = s.join(row)\n",
    "            myfile.write(\"%s\\n\" % srow)\n",
    "\n",
    "    di +=1\n",
    "    if di % (int(len(dirs)/10)) == 0:\n",
    "        print(di/len(dirs))"
   ]
  },
  {
   "cell_type": "code",
   "execution_count": 3,
   "metadata": {
    "collapsed": false
   },
   "outputs": [
    {
     "name": "stdout",
     "output_type": "stream",
     "text": [
      "0.09998070801581943\n",
      "0.19996141603163886\n",
      "0.2999421240474583\n",
      "0.3999228320632777\n",
      "0.49990354007909715\n",
      "0.5998842480949166\n",
      "0.699864956110736\n",
      "0.7998456641265554\n",
      "0.8998263721423748\n",
      "0.9998070801581943\n"
     ]
    }
   ],
   "source": [
    "#DIMENSION_NAME = \"IOP.txt\"\n",
    "di = 0\n",
    "for MRN in dirs:\n",
    "    #print(MRN)\n",
    "    textpath = folderpath + str(MRN) + '/' + DIMENSION_NAME\n",
    "    if os.path.exists(textpath):\n",
    "        IOPheader, IOProws = IOPfile_to_Colrow(textpath)\n",
    "    \n",
    "    file = open(textpath, \"w\")\n",
    "    file.write(IOPheader + \"\\n\")\n",
    "    file.close()\n",
    "    \n",
    "    s=','\n",
    "    with open(textpath, \"a\") as myfile:\n",
    "        for row in IOProws:\n",
    "            srow = s.join(row)\n",
    "            myfile.write(\"%s\\n\" % srow)\n",
    "\n",
    "    di +=1\n",
    "    #if di > 0:\n",
    "        #break \n",
    "    if di % (int(len(dirs)/10)) == 0:\n",
    "        print(di/len(dirs))"
   ]
  },
  {
   "cell_type": "code",
   "execution_count": 5,
   "metadata": {
    "collapsed": true
   },
   "outputs": [],
   "source": []
  }
 ],
 "metadata": {
  "kernelspec": {
   "display_name": "Python 3",
   "language": "python",
   "name": "python3"
  },
  "language_info": {
   "codemirror_mode": {
    "name": "ipython",
    "version": 3
   },
   "file_extension": ".py",
   "mimetype": "text/x-python",
   "name": "python",
   "nbconvert_exporter": "python",
   "pygments_lexer": "ipython3",
   "version": "3.5.1"
  }
 },
 "nbformat": 4,
 "nbformat_minor": 0
}
