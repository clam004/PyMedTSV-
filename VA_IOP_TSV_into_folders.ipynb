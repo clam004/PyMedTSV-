{
 "cells": [
  {
   "cell_type": "code",
   "execution_count": 1,
   "metadata": {
    "collapsed": true
   },
   "outputs": [],
   "source": [
    "import os\n",
    "import glob\n",
    "import csv\n",
    "import copy\n",
    "from functions import *"
   ]
  },
  {
   "cell_type": "code",
   "execution_count": 2,
   "metadata": {
    "collapsed": true
   },
   "outputs": [],
   "source": [
    "# define paths\n",
    "source_folderpath = \"/Users/carsonlam/macroeyes/4th_extraction/\"\n",
    "Population_path = \"/Users/carsonlam/macroeyes/Population_v2/\""
   ]
  },
  {
   "cell_type": "code",
   "execution_count": 3,
   "metadata": {
    "collapsed": true
   },
   "outputs": [],
   "source": [
    "# load raw data to memory in a list\n",
    "with open(source_folderpath + \"VA_IOP.tsv\") as tsvfile:\n",
    "    tsvreader = csv.reader(tsvfile, delimiter=\"\\t\")\n",
    "    tsvlist = list(tsvreader)"
   ]
  },
  {
   "cell_type": "code",
   "execution_count": 4,
   "metadata": {
    "collapsed": false
   },
   "outputs": [
    {
     "name": "stdout",
     "output_type": "stream",
     "text": [
      "PATIENT_ID,PAT_MRN_ID,CONTACT_DATE,CUR_VALUE_DATETIME,CONCEPT_ID,exAM_VALUE,EXAM_CODE,LINE\n"
     ]
    }
   ],
   "source": [
    "# example \n",
    "# PAT_MRN_ID, CONTACT_DATE, EXAM_CODE, EXAM_VALUE,EXAM_Method,Correction\n",
    "# 00051409,20-MAY-15,VA - Left Distance PH SC,20/40,Snellen - Linear, \n",
    "# 00051409,28-APR-15,VA - Left Distance CC,20/20,Snellen - Linear,Glasses\n",
    "\n",
    "# example\n",
    "# PAT_MRN_ID, CONTACT_DATE, EXAM_CODE, EXAM_VALUE,Tonometry_Method,Tonometry_Time\n",
    "# 00051409,20-MAY-15,intraocular pressure - left,15,Applanation,2:52 PM\n",
    "# 00051409,20-MAY-15,intraocular pressure - right,15,Applanation,2:52 PM\n",
    "# 00051409,18-MAR-15,intraocular pressure - left,17,Tonopen,10:24 AM\n",
    "\n"
   ]
  },
  {
   "cell_type": "code",
   "execution_count": 7,
   "metadata": {
    "collapsed": false
   },
   "outputs": [
    {
     "name": "stdout",
     "output_type": "stream",
     "text": [
      "1583842\n"
     ]
    }
   ],
   "source": [
    "# Take the lines of data (all lines after the first , the header) and put in separate list\n",
    "tsvdata = tsvlist[1:]\n",
    "# the list is zero indexed so the last element is len(tsvdata) - 1\n",
    "print(len(tsvdata))"
   ]
  },
  {
   "cell_type": "code",
   "execution_count": 13,
   "metadata": {
    "collapsed": false
   },
   "outputs": [
    {
     "name": "stdout",
     "output_type": "stream",
     "text": [
      "PAT_MRN_ID,CONTACT_DATE,EXAM_VALUE,EXAM_CODE,LINE\n"
     ]
    }
   ],
   "source": [
    "indices = [1, 2, 5, 6,7]  \n",
    "# turn the first line into a header for your data\n",
    "header = [tsvlist[0][x] for x in indices]\n",
    "# the first line is itself a list and must be turned into a string to write to file, ',' is our delimiter\n",
    "d=','\n",
    "stringheader = d.join(header).upper()\n",
    "print(stringheader)"
   ]
  },
  {
   "cell_type": "code",
   "execution_count": 31,
   "metadata": {
    "collapsed": false
   },
   "outputs": [],
   "source": [
    "# PATIENT_ID,PAT_MRN_ID,CONTACT_DATE,CUR_VALUE_DATETIME,CONCEPT_ID, exAM_VALUE,    EXAM_CODE,     LINE\n",
    "# Z2301137, 20096707,    11/10/2009,                  ,EPIC#OPH152,  1:47 PM,   Tonometry - Time,    1\n",
    "# Z926266, 16711038,     06/26/2009,                  ,EPIC#OPH109,   20/60,   VA - Left Distance CC,1\n",
    "\n",
    "# Create a txt file with a header inside in each folder for which data exists,\n",
    "# Dont try to do so for non existent folders represented in the raw data\n",
    "# or for folders already contianing the txt file \n",
    "# later on you will have to create these files for the patient folders not in the raw data\n",
    "\n",
    "DIMENSION_NAME = \"VA.txt\"\n",
    "\n",
    "for i in range(len(tsvdata)):\n",
    "    \n",
    "    # build the path\n",
    "    patient_folder_path = Population_path + tsvdata[i][1]\n",
    "    textpath = patient_folder_path + \"/\" + DIMENSION_NAME\n",
    "    \n",
    "    if os.path.exists(patient_folder_path) and not os.path.exists(textpath):\n",
    "        \n",
    "        # create add the file \n",
    "        file = open(textpath, \"w\")\n",
    "        file.write(stringheader + \"\\n\") # remember to use the \\n to go to next line \n",
    "        file.close()"
   ]
  },
  {
   "cell_type": "code",
   "execution_count": 32,
   "metadata": {
    "collapsed": false
   },
   "outputs": [],
   "source": [
    "DIMENSION_NAME = \"IOP.txt\"\n",
    "\n",
    "for i in range(len(tsvdata)):\n",
    "    \n",
    "    # build the path\n",
    "    patient_folder_path = Population_path + tsvdata[i][1]\n",
    "    textpath = patient_folder_path + \"/\" + DIMENSION_NAME\n",
    "    \n",
    "    if os.path.exists(patient_folder_path) and not os.path.exists(textpath):\n",
    "        \n",
    "        # create add the file \n",
    "        file = open(textpath, \"w\")\n",
    "        file.write(stringheader + \"\\n\") # remember to use the \\n to go to next line \n",
    "        file.close()\n",
    "\n"
   ]
  },
  {
   "cell_type": "code",
   "execution_count": null,
   "metadata": {
    "collapsed": false
   },
   "outputs": [],
   "source": [
    "notextpath = []\n",
    "\n",
    "for i in range(len(tsvdata)):\n",
    "    \n",
    "    rel_data = [tsvdata[i][x] for x in indices]\n",
    "    d=','\n",
    "    stringLine = d.join(rel_data)\n",
    "\n",
    "    if \"VA\" in rel_data[3]: \n",
    "        DIMENSION_NAME = \"VA.txt\"\n",
    "        #print(stringLine + \"go to VA\")\n",
    "    \n",
    "    elif \"pressure\" in rel_data[3] or \"Tonometry\" in rel_data[3]: \n",
    "        DIMENSION_NAME = \"IOP.txt\"\n",
    "        #print(stringLine + \"go to IOP\")\n",
    "    \n",
    "    #DIMENSION_NAME = \"IOP.txt\"\n",
    "    patient_folder_path = Population_path + rel_data[0]\n",
    "    textpath = patient_folder_path + \"/\" + DIMENSION_NAME\n",
    "    \n",
    "    if os.path.exists(textpath):\n",
    "        #print(\"yes\"+textpath)\n",
    "        \n",
    "        with open(textpath, \"a\") as myfile:\n",
    "            myfile.write(stringLine + \"\\n\") # remember to use the \\n to go to next line\n",
    "    else:\n",
    "        notextpath.append(textpath)\n",
    "    \n",
    "    if i%100000 == 0:\n",
    "        print(i/len(tsvdata))\n",
    "    \n",
    "#PAT_MRN_ID,CONTACT_DATE,EXAM_VALUE,EXAM_CODE,LINE\n",
    "\n",
    "# EXAM_VALUE [2] = Tonopen, Applanation, Snellen - Linear, 17, 20/20\n",
    "# EXAM_CODE [3] = VA - Left Distance CC, intraocular pressure - right"
   ]
  },
  {
   "cell_type": "code",
   "execution_count": null,
   "metadata": {
    "collapsed": true
   },
   "outputs": [],
   "source": []
  }
 ],
 "metadata": {
  "kernelspec": {
   "display_name": "Python 3",
   "language": "python",
   "name": "python3"
  },
  "language_info": {
   "codemirror_mode": {
    "name": "ipython",
    "version": 3
   },
   "file_extension": ".py",
   "mimetype": "text/x-python",
   "name": "python",
   "nbconvert_exporter": "python",
   "pygments_lexer": "ipython3",
   "version": "3.5.1"
  }
 },
 "nbformat": 4,
 "nbformat_minor": 0
}
