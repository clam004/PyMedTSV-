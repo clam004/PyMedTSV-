{
 "cells": [
  {
   "cell_type": "code",
   "execution_count": 1,
   "metadata": {
    "collapsed": true
   },
   "outputs": [],
   "source": [
    "import os\n",
    "import glob\n",
    "import csv\n",
    "import copy\n",
    "from functions import *"
   ]
  },
  {
   "cell_type": "code",
   "execution_count": 2,
   "metadata": {
    "collapsed": false
   },
   "outputs": [
    {
     "data": {
      "text/plain": [
       "20734"
      ]
     },
     "execution_count": 2,
     "metadata": {},
     "output_type": "execute_result"
    }
   ],
   "source": [
    "# define paths\n",
    "source_folderpath = \"/Users/carsonlam/macroeyes/4th_extraction/\"\n",
    "Population_path = \"/Users/carsonlam/macroeyes/Population_v2/\"\n",
    "# get a list of all folders in a folder\n",
    "dirs = get_immediate_subdirectories(Population_path)\n",
    "len(dirs)"
   ]
  },
  {
   "cell_type": "code",
   "execution_count": 31,
   "metadata": {
    "collapsed": false
   },
   "outputs": [
    {
     "name": "stdout",
     "output_type": "stream",
     "text": [
      "PAT_MRN_ID,ORDER_MED_ID,MEDICATION_ID,DISPLAY_NAME,GENERIC_NAME,ORDERING_DATE,START_DATE,END_DATE,ORDER_MODE,MED_PROVIDER,MED_FORM,MED_STRENGTH,MED_ROUTE,THERA_CLASS_C,THERA_CLASS,PHARM_CLASS,FREQ_NAME,QUANTITY,REFILLS,DOSE,DOSE_UNIT\n",
      "1640222  lines of data\n",
      "00006825,410935588,951,,diphenhydrAMINE 25 mg capsule,12/05/2012,12/05/2012,06/23/2013,Outpatient,Authorizing,Cap,25 mg,Oral,1023,ANTIHISTAMINES,ANTIHISTAMINES - 1ST GENERATION,ASD,10 Cap,0,50,mg\n"
     ]
    }
   ],
   "source": [
    "# load raw data to memory in a list\n",
    "with open(source_folderpath + \"medications.tsv\", \"rt\",encoding = 'iso-8859-1') as tsvfile:\n",
    "    tsvreader = csv.reader(tsvfile, delimiter=\"\\t\")\n",
    "    tsvlist = list(tsvreader)\n",
    "# turn the first line into a header for your data\n",
    "header = tsvlist[0]\n",
    "# the first line is itself a list and must be turned into a string to write to file, ',' is our delimiter\n",
    "d=','\n",
    "stringheader = d.join(header)\n",
    "print(stringheader)\n",
    "# Take the lines of data (all lines after the first , the header) and put in separate list\n",
    "tsvdata = tsvlist[1:]\n",
    "# the list is zero indexed so the last element is len(tsvdata) - 1\n",
    "print(str(len(tsvdata)) + \"  lines of data\")\n",
    "firstLine = d.join(tsvdata[0])\n",
    "print(firstLine)"
   ]
  },
  {
   "cell_type": "code",
   "execution_count": 32,
   "metadata": {
    "collapsed": false
   },
   "outputs": [
    {
     "data": {
      "text/plain": [
       "[['00006825',\n",
       "  '410935589',\n",
       "  '6496',\n",
       "  'predniSONE (DELTASONE) tablet',\n",
       "  'predniSONE 20 mg tablet',\n",
       "  '12/05/2012',\n",
       "  '12/05/2012',\n",
       "  '06/23/2013',\n",
       "  'Outpatient',\n",
       "  'Authorizing',\n",
       "  'Tab',\n",
       "  '20 mg',\n",
       "  'Oral',\n",
       "  '1041',\n",
       "  'HORMONES',\n",
       "  'GLUCOCORTICOIDS',\n",
       "  'ASD',\n",
       "  '4 Tab',\n",
       "  '0',\n",
       "  '40',\n",
       "  'mg'],\n",
       " ['00006825',\n",
       "  '411875308',\n",
       "  '10609',\n",
       "  'midodrine (PROAMATINE) tablet',\n",
       "  'midodrine 2.5 mg tablet',\n",
       "  '12/21/2012',\n",
       "  '12/21/2012',\n",
       "  '10/17/2013',\n",
       "  'Outpatient',\n",
       "  'Authorizing',\n",
       "  'Tab',\n",
       "  '2.5 mg',\n",
       "  'Oral',\n",
       "  '1029',\n",
       "  'AUTONOMIC DRUGS',\n",
       "  'ADRENERGIC VASOPRESSOR AGENTS',\n",
       "  'BID',\n",
       "  '60 Tab',\n",
       "  '1',\n",
       "  '2.5',\n",
       "  'mg']]"
      ]
     },
     "execution_count": 32,
     "metadata": {},
     "output_type": "execute_result"
    }
   ],
   "source": [
    "tsvdata[1:3]"
   ]
  },
  {
   "cell_type": "code",
   "execution_count": 18,
   "metadata": {
    "collapsed": false
   },
   "outputs": [],
   "source": [
    "# USE CAREFULLY, SCRIPT TO DELETE FILES\n",
    "\n",
    "filename = 'picd9.txt'\n",
    "\n",
    "for MRN in dirs:\n",
    "    \n",
    "    deletefolder = Population_path + str(MRN) + '/' + filename\n",
    "    \n",
    "    if os.path.exists(deletefolder):\n",
    "        os.remove(deletefolder)\n",
    "# show some samples of the raw data\n",
    "#PAT_MRN_ID,PAT_ID,DX_CODE,DX_NAME,CODE_TYPE,CODE_DATE\n"
   ]
  },
  {
   "cell_type": "code",
   "execution_count": 33,
   "metadata": {
    "collapsed": false
   },
   "outputs": [
    {
     "data": {
      "text/plain": [
       "[['00006825',\n",
       "  '410935588',\n",
       "  '951',\n",
       "  '\"\"',\n",
       "  '\"diphenhydrAMINE 25 mg capsule\"',\n",
       "  '12-05-2012',\n",
       "  '12-05-2012',\n",
       "  '06-23-2013',\n",
       "  'Outpatient',\n",
       "  'Authorizing',\n",
       "  'Cap',\n",
       "  '\"25 mg\"',\n",
       "  '\"Oral\"',\n",
       "  '1023',\n",
       "  '\"ANTIHISTAMINES\"',\n",
       "  '\"ANTIHISTAMINES - 1ST GENERATION\"',\n",
       "  '\"ASD\"',\n",
       "  '10 Cap',\n",
       "  '0',\n",
       "  '50',\n",
       "  'mg'],\n",
       " ['00006825',\n",
       "  '410935589',\n",
       "  '6496',\n",
       "  '\"predniSONE (DELTASONE) tablet\"',\n",
       "  '\"predniSONE 20 mg tablet\"',\n",
       "  '12-05-2012',\n",
       "  '12-05-2012',\n",
       "  '06-23-2013',\n",
       "  'Outpatient',\n",
       "  'Authorizing',\n",
       "  'Tab',\n",
       "  '\"20 mg\"',\n",
       "  '\"Oral\"',\n",
       "  '1041',\n",
       "  '\"HORMONES\"',\n",
       "  '\"GLUCOCORTICOIDS\"',\n",
       "  '\"ASD\"',\n",
       "  '4 Tab',\n",
       "  '0',\n",
       "  '40',\n",
       "  'mg']]"
      ]
     },
     "execution_count": 33,
     "metadata": {},
     "output_type": "execute_result"
    }
   ],
   "source": [
    "# script to make modifications to each line of the data list before sending it to the txt files in pt folders\n",
    "date_indices = [5,6,7]\n",
    "freeText_indices = [3,4,11,12,14,15,16]\n",
    "for i in range(len(tsvdata)):\n",
    "    \n",
    "    # converting the data String to d/m/y\n",
    "    for date_index in date_indices:\n",
    "        tsvdata[i][date_index] = tsvdata[i][date_index].replace(\"/\", \"-\")\n",
    "    for freeText_index in freeText_indices:\n",
    "        tsvdata[i][freeText_index] = '\"' + tsvdata[i][freeText_index] + '\"'\n",
    "    for j in range(len(tsvdata[i])):\n",
    "        if tsvdata[i][j] == \"\":\n",
    "            tsvdata[i][j] = '\"\"'\n",
    "    #d=','\n",
    "    #stringLine = d.join(tsvdata[i])\n",
    "    #print(stringLine)\n",
    "    #if i > 20:\n",
    "        #break \n",
    "tsvdata[0:2]"
   ]
  },
  {
   "cell_type": "code",
   "execution_count": 22,
   "metadata": {
    "collapsed": false
   },
   "outputs": [
    {
     "name": "stdout",
     "output_type": "stream",
     "text": [
      "1724673 130\n"
     ]
    }
   ],
   "source": [
    "# testing to see if there is a folder for each of these data points\n",
    "nope = 0\n",
    "have = 0\n",
    "for i in range(len(tsvdata)):\n",
    "    \n",
    "    # build the path\n",
    "    patient_folder_path = Population_path + tsvdata[i][0]\n",
    "    \n",
    "    if not os.path.exists(patient_folder_path):\n",
    "        nope+=1\n",
    "    else:\n",
    "        have+=1\n",
    "        \n",
    "print(have,nope)"
   ]
  },
  {
   "cell_type": "code",
   "execution_count": 34,
   "metadata": {
    "collapsed": true
   },
   "outputs": [],
   "source": [
    "# create the txt file with header inside\n",
    "#DIMENSION_NAME = \"picd9.txt\"\n",
    "DIMENSION_NAME = \"meds.txt\"\n",
    "IOPheader = stringheader \n",
    "# IOPheader = \"PAT_MRN_ID, CONTACT_DATE, EXAM_CODE, EXAM_VALUE, Tonometry_Method, Tonometry_Time\"\n",
    "\n",
    "for MRN in dirs:\n",
    "    \n",
    "    textpath = Population_path + str(MRN) + '/' + DIMENSION_NAME\n",
    "    if os.path.exists(Population_path + str(MRN)) and not os.path.exists(textpath):\n",
    "    \n",
    "        # create add the file \n",
    "        file = open(textpath, \"w\")\n",
    "        file.write(IOPheader + \"\\n\") # remember to use the \\n to go to next line \n",
    "        file.close()"
   ]
  },
  {
   "cell_type": "code",
   "execution_count": null,
   "metadata": {
    "collapsed": false
   },
   "outputs": [
    {
     "name": "stdout",
     "output_type": "stream",
     "text": [
      "0.0\n",
      "0.09999987806528629\n",
      "0.19999975613057258\n"
     ]
    }
   ],
   "source": [
    "# Script for inserting the data into it's txt file in pt folders, if the txt file exists\n",
    "for i in range(len(tsvdata)):\n",
    "    \n",
    "    # Divert data\n",
    "    #if \"ICD9CM\" in tsvdata[i][4]:\n",
    "        #DIMENSION_NAME = \"picd9.txt\"\n",
    "        \n",
    "    #if \"CPT\" in tsvdata[i][4]:\n",
    "        #DIMENSION_NAME = \"cpt.txt\"\n",
    "    \n",
    "    # build the path\n",
    "    patient_folder_path = Population_path + tsvdata[i][0]\n",
    "    textpath = patient_folder_path + \"/\" + DIMENSION_NAME\n",
    "    if os.path.exists(textpath):\n",
    "    # convert he data into strings\n",
    "        d = ','\n",
    "        stringLine = d.join(tsvdata[i])\n",
    "\n",
    "        with open(textpath, \"a\") as myfile:\n",
    "            myfile.write(stringLine + \"\\n\") # remember to use the \\n to go to next line\n",
    "            \n",
    "    if i%(int(len(tsvdata)/10)) == 0:\n",
    "        print(i/len(tsvdata))"
   ]
  },
  {
   "cell_type": "code",
   "execution_count": 10,
   "metadata": {
    "collapsed": false
   },
   "outputs": [
    {
     "data": {
      "text/plain": [
       "172480"
      ]
     },
     "execution_count": 10,
     "metadata": {},
     "output_type": "execute_result"
    }
   ],
   "source": []
  },
  {
   "cell_type": "code",
   "execution_count": null,
   "metadata": {
    "collapsed": true
   },
   "outputs": [],
   "source": []
  }
 ],
 "metadata": {
  "kernelspec": {
   "display_name": "Python 3",
   "language": "python",
   "name": "python3"
  },
  "language_info": {
   "codemirror_mode": {
    "name": "ipython",
    "version": 3
   },
   "file_extension": ".py",
   "mimetype": "text/x-python",
   "name": "python",
   "nbconvert_exporter": "python",
   "pygments_lexer": "ipython3",
   "version": "3.5.1"
  }
 },
 "nbformat": 4,
 "nbformat_minor": 0
}
