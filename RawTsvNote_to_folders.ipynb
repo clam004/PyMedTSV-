{
 "cells": [
  {
   "cell_type": "code",
   "execution_count": 1,
   "metadata": {
    "collapsed": true
   },
   "outputs": [],
   "source": [
    "import os\n",
    "import glob\n",
    "import csv\n",
    "import copy\n",
    "from functions import *"
   ]
  },
  {
   "cell_type": "code",
   "execution_count": 8,
   "metadata": {
    "collapsed": false
   },
   "outputs": [
    {
     "name": "stdout",
     "output_type": "stream",
     "text": [
      "length of note1.tsv : 7000000\n"
     ]
    }
   ],
   "source": [
    "# define paths\n",
    "tsv_name = \"note1.tsv\"\n",
    "source_folderpath = \"/Users/carsonlam/macroeyes/4th_extraction/\"\n",
    "Population_path = \"/Users/carsonlam/macroeyes/Population_v2/\"\n",
    "source_path = source_folderpath + tsv_name\n",
    "\n",
    "# load tsv file to list \n",
    "tsvlist = get_TSV_list(source_path)\n",
    "print(\"length of \" + tsv_name + \" : \"+ str(len(tsvlist)))"
   ]
  },
  {
   "cell_type": "code",
   "execution_count": 9,
   "metadata": {
    "collapsed": false
   },
   "outputs": [
    {
     "name": "stdout",
     "output_type": "stream",
     "text": [
      "0.1\n",
      "0.2\n",
      "0.3\n",
      "0.4\n",
      "0.5\n",
      "0.6\n",
      "0.7\n",
      "0.8\n",
      "0.9\n",
      "18821074,05-27-2014,\"Anesthesia Preprocedure Evaluation\",\"levothyroxine (SYNTHROID) 150 mcg tablet take 150 mcg by mouth daily.           tacrolimus (PROGRAF) 1 mg capsule take 2 mg by mouth 2 times a day.         No current facility-administered medications for this visit.     No Known Allergies  History   Substance Use Topics     Smoking status: Never Smoker      Smokeless tobacco: Never Used     Alcohol Use: No   BP 145/78 | Pulse 68 | Ht 1.575 m (5' 2\") | Wt 74 kg (163 lb 2.3 oz) | BMI 29.83 kg/m2 | SpO2 95%      Medical History    Anesthesia: No significant anesthesia-related problems or events .   Pulmonary: No significant pulmonary disease or active symptoms/neg pulmonary ROS.   Cardiovascular: Positive for: CAD (CABG in 2011). Walking limited d/t leg problems. Able to walk for 5-10 min before gets DOE. This has not changed for one year.  Denies any CP on exertion.   Neuro/Psych: Positive for: chronic pain (takes Tramadol for back pain ).   GI/Hepatic/Renal: s/p liver transplant secondary to NASH cirrhosis in 2010. H/o recent admission for UTI and hyperkalemia at Stanford Positive for: GERD (able to lie flat, but needs back support). Negative for: dialysis (used to be on HD and weaned off 3 months ago ). Chronic renal disease: Cr 2.8 on 4/24/14.   Endocrine: Positive for: Type II DM (for 33 years; on insulin ).   Other conditions: Positive for: anticoagulation therapy (on Plavix).         Physical Exam     Airway: Mallampati score is IV. The thyromental distance is >3 FB. Airway exam shows thick neck. Airway exam shows normal submandibular compliance, normal oropharynx anatomy and normal cervical range of motion.   Dental: Normal no notable dental history appearance.   Pulmonary: Normal pulmonary exam normal/breath sounds are present.   Cardiovascular: Exam shows: peripheral edema. Pertinent negatives include: carotid bruit is not present.         Anesthesia Plan    Anesthesia Preop Clinic/Resident Note:\"\n"
     ]
    }
   ],
   "source": [
    "# modifey the data the way you want to before insertion into txt files\n",
    "note_indices = [ 2, 9, 10, 12]\n",
    "date_indices = [9]\n",
    "freeText_indices = [10,12]\n",
    "subdata = []\n",
    "\n",
    "\n",
    "for i in range(1,len(tsvlist)):\n",
    "    for date_index in date_indices:\n",
    "        tsvlist[i][date_index] = tsvlist[i][date_index].replace(\"/\", \"-\")\n",
    "    for freeText_index in freeText_indices:\n",
    "        tsvlist[i][freeText_index] = '\"' + tsvlist[i][freeText_index] + '\"'\n",
    "    for j in range(len(tsvlist[i])):\n",
    "        if tsvlist[i][j] == \"\":\n",
    "            tsvlist[i][j] = '\"\"'\n",
    "            \n",
    "    subdata.append([tsvlist[i][note_index] for note_index in note_indices])\n",
    "    \n",
    "    if i%(int(len(tsvlist)/10)) == 0:\n",
    "        print(i/len(tsvlist))\n",
    "        \n",
    "print(list_to_String(subdata[2]))"
   ]
  },
  {
   "cell_type": "code",
   "execution_count": 10,
   "metadata": {
    "collapsed": false
   },
   "outputs": [
    {
     "name": "stdout",
     "output_type": "stream",
     "text": [
      "0.0\n",
      "0.039999862857123265\n",
      "0.07999972571424653\n",
      "0.11999958857136979\n",
      "0.15999945142849306\n",
      "0.19999931428561632\n",
      "0.23999917714273958\n",
      "0.27999903999986286\n",
      "0.3199989028569861\n",
      "0.3599987657141094\n",
      "0.39999862857123264\n",
      "0.4399984914283559\n",
      "0.47999835428547916\n",
      "0.5199982171426024\n",
      "0.5599980799997257\n",
      "0.5999979428568489\n",
      "0.6399978057139722\n",
      "0.6799976685710956\n",
      "0.7199975314282188\n",
      "0.7599973942853421\n",
      "0.7999972571424653\n",
      "0.8399971199995886\n",
      "0.8799969828567118\n",
      "0.9199968457138351\n",
      "0.9599967085709583\n",
      "0.9999965714280816\n"
     ]
    }
   ],
   "source": [
    "# Script for inserting the data into it's txt file in pt folders, if the txt file exists\n",
    "DIMENSION_NAME = \"note.txt\"\n",
    "for i in range(len(subdata)):\n",
    "    patient_folder_path = Population_path + subdata[i][0]\n",
    "    textpath = patient_folder_path + \"/\" + DIMENSION_NAME\n",
    "    if os.path.exists(textpath):\n",
    "    # convert he data into strings\n",
    "        d = ','\n",
    "        stringLine = d.join(subdata[i])\n",
    "\n",
    "        with open(textpath, \"a\") as myfile:\n",
    "            myfile.write(stringLine + \"\\n\") # remember to use the \\n to go to next line\n",
    "            \n",
    "    if i%(int(len(subdata)/25)) == 0:\n",
    "        print(i/len(subdata))"
   ]
  },
  {
   "cell_type": "code",
   "execution_count": null,
   "metadata": {
    "collapsed": true
   },
   "outputs": [],
   "source": []
  },
  {
   "cell_type": "code",
   "execution_count": 7,
   "metadata": {
    "collapsed": false
   },
   "outputs": [
    {
     "name": "stdout",
     "output_type": "stream",
     "text": [
      "0.09999976124805193\n",
      "0.19999952249610387\n",
      "0.2999992837441558\n",
      "0.39999904499220773\n",
      "0.49999880624025966\n",
      "0.5999985674883116\n",
      "0.6999983287363636\n",
      "0.7999980899844155\n",
      "0.8999978512324674\n",
      "0.9999976124805193\n",
      "12083903,09-16-2015,\"Progress Notes\",\"Theodore Leng, MD       Eye Institute at Stanford University Hospital and Clinics  Ophthalmology Outpatient Encounter      ID/Chief Complaint / Reason for visit/History of Present Illness:      Ronald L Jacobson, (DOB 7/30/1929), a 86 Y male, presents on 9/16/2015 for follow-up of the following diagnoses:    1. Age-related macular degeneration, wet, right eye    2. Age-related macular degeneration, dry, left eye    3. Posterior vitreous detachment, both eyes    4. Nuclear sclerotic cataract of both eyes      The patient reports that all of these diagnoses have been stable, except vision has decreased in right eye, doesn't feel like he can see as clearly since last office visit          ACTION ITEMS: optical coherence tomography both eyes, EYLEA right eye, dilate both eyes, fluorescein angiography/indocyanine green both eyes transit right eye, fundus autofluorescence,  if the vision has changed from the last visit, please perform automated refraction    Last dialated fundus examination: 1/2015, 3/2015, 9/16/2015    ICG/FA: 1/2015      Injection / Laser/Eye Surgery History:      Right Eye  EYLEA  7/30/2013, 9/4/2013 (4w, fluid), 10/1/2013 (4w, stable fluid), 11/6/2013 (4w, stable fluid), 12/4/2013 (4w, stable fluid), 1/6/2014 (fluid gone), 2/5/2014 (tr fluid), 3/5/2014, 4/2/2014 (tr fluid), 4/30/2014 (stable trace fluid), 5/28/2014 (stable trace fluid), 6/25/2014 (stable trace fluid), 7/22/2014, 8/20/2014 (fluid gone), 9/24/2014 (tr fluid), 10/22/2014, 11/18/2014, 12/17/2014, 1/15/2015, 2/18/2015, 3/18/2015, 4/15/2015, 5/13/2015, 6/17/2015, 7/15/2015, 8/19/2015, 9/16/2015      Left Eye       Ocular medications were administered per protocol.      Examination:        1. The patient has a normal mood and affect.  The patient is also alert and oriented to person, place, and time.    2. Distance Visual Acuity    Right Eye  Without correction:      With correction: 20/60    With Pin-Hole:   NI\"\n"
     ]
    }
   ],
   "source": []
  },
  {
   "cell_type": "code",
   "execution_count": null,
   "metadata": {
    "collapsed": false
   },
   "outputs": [],
   "source": [
    "import pickle\n",
    "\n",
    "pickle.dump(subdata, open( \"subdata.p\", \"wb\" ) )"
   ]
  },
  {
   "cell_type": "code",
   "execution_count": 10,
   "metadata": {
    "collapsed": false
   },
   "outputs": [
    {
     "name": "stdout",
     "output_type": "stream",
     "text": [
      "0.0\n",
      "0.04999974632597947\n",
      "0.09999949265195894\n",
      "0.14999923897793843\n",
      "0.19999898530391788\n",
      "0.24999873162989736\n",
      "0.29999847795587686\n",
      "0.3499982242818563\n",
      "0.39999797060783576\n",
      "0.44999771693381524\n",
      "0.4999974632597947\n",
      "0.5499972095857742\n",
      "0.5999969559117537\n",
      "0.6499967022377331\n",
      "0.6999964485637126\n",
      "0.749996194889692\n",
      "0.7999959412156715\n",
      "0.849995687541651\n",
      "0.8999954338676305\n",
      "0.94999518019361\n",
      "0.9999949265195894\n"
     ]
    }
   ],
   "source": []
  },
  {
   "cell_type": "code",
   "execution_count": null,
   "metadata": {
    "collapsed": false
   },
   "outputs": [],
   "source": [
    "\n",
    "for i in range(len(subdata)):\n",
    "    \n",
    "    # Divert data\n",
    "    #if \"ICD9CM\" in tsvdata[i][4]:\n",
    "        #DIMENSION_NAME = \"picd9.txt\"\n",
    "        \n",
    "    #if \"CPT\" in tsvdata[i][4]:\n",
    "        #DIMENSION_NAME = \"cpt.txt\"\n",
    "    \n",
    "    # build the path\n",
    "    patient_folder_path = Population_path + subdata[i][0]\n",
    "    textpath = patient_folder_path + \"/\" + DIMENSION_NAME\n",
    "    if os.path.exists(textpath):\n",
    "    # convert he data into strings\n",
    "        d = ','\n",
    "        stringLine = d.join(subdata[i])\n",
    "\n",
    "        with open(textpath, \"a\") as myfile:\n",
    "            myfile.write(stringLine + \"\\n\") # remember to use the \\n to go to next line\n",
    "            \n",
    "    if i%(int(len(tsvdata)/10)) == 0:\n",
    "        print(i/len(tsvdata))"
   ]
  },
  {
   "cell_type": "code",
   "execution_count": 22,
   "metadata": {
    "collapsed": false
   },
   "outputs": [
    {
     "name": "stdout",
     "output_type": "stream",
     "text": [
      "1724673 130\n"
     ]
    }
   ],
   "source": [
    "# testing to see if there is a folder for each of these data points\n",
    "nope = 0\n",
    "have = 0\n",
    "for i in range(len(tsvdata)):\n",
    "    \n",
    "    # build the path\n",
    "    patient_folder_path = Population_path + tsvdata[i][0]\n",
    "    \n",
    "    if not os.path.exists(patient_folder_path):\n",
    "        nope+=1\n",
    "    else:\n",
    "        have+=1\n",
    "        \n",
    "print(have,nope)"
   ]
  },
  {
   "cell_type": "code",
   "execution_count": 34,
   "metadata": {
    "collapsed": true
   },
   "outputs": [],
   "source": [
    "# create the txt file with header inside\n",
    "#DIMENSION_NAME = \"picd9.txt\"\n",
    "DIMENSION_NAME = \"note.txt\"\n",
    "IOPheader = stringheader \n",
    "# IOPheader = \"PAT_MRN_ID, CONTACT_DATE, EXAM_CODE, EXAM_VALUE, Tonometry_Method, Tonometry_Time\"\n",
    "\n",
    "for MRN in dirs:\n",
    "    \n",
    "    textpath = Population_path + str(MRN) + '/' + DIMENSION_NAME\n",
    "    if os.path.exists(Population_path + str(MRN)) and not os.path.exists(textpath):\n",
    "    \n",
    "        # create add the file \n",
    "        file = open(textpath, \"w\")\n",
    "        file.write(IOPheader + \"\\n\") # remember to use the \\n to go to next line \n",
    "        file.close()"
   ]
  },
  {
   "cell_type": "code",
   "execution_count": null,
   "metadata": {
    "collapsed": false
   },
   "outputs": [
    {
     "name": "stdout",
     "output_type": "stream",
     "text": [
      "0.0\n",
      "0.09999987806528629\n",
      "0.19999975613057258\n"
     ]
    }
   ],
   "source": []
  },
  {
   "cell_type": "code",
   "execution_count": 10,
   "metadata": {
    "collapsed": false
   },
   "outputs": [
    {
     "data": {
      "text/plain": [
       "172480"
      ]
     },
     "execution_count": 10,
     "metadata": {},
     "output_type": "execute_result"
    }
   ],
   "source": [
    "# USE CAREFULLY, SCRIPT TO DELETE FILES\n",
    "\n",
    "filename = 'picd9.txt'\n",
    "\n",
    "for MRN in dirs:\n",
    "    \n",
    "    deletefolder = Population_path + str(MRN) + '/' + filename\n",
    "    \n",
    "    if os.path.exists(deletefolder):\n",
    "        os.remove(deletefolder)"
   ]
  },
  {
   "cell_type": "code",
   "execution_count": null,
   "metadata": {
    "collapsed": true
   },
   "outputs": [],
   "source": []
  }
 ],
 "metadata": {
  "kernelspec": {
   "display_name": "Python 3",
   "language": "python",
   "name": "python3"
  },
  "language_info": {
   "codemirror_mode": {
    "name": "ipython",
    "version": 3
   },
   "file_extension": ".py",
   "mimetype": "text/x-python",
   "name": "python",
   "nbconvert_exporter": "python",
   "pygments_lexer": "ipython3",
   "version": "3.5.1"
  }
 },
 "nbformat": 4,
 "nbformat_minor": 0
}
